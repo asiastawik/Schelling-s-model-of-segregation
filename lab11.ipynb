{
 "cells": [
  {
   "cell_type": "markdown",
   "id": "d9f272bb-3bb3-4a75-8524-b68bf55c25ae",
   "metadata": {},
   "source": [
    "Task list 11 (for submission) - part 1\n",
    "======================================\n",
    "\n",
    "Submission\n",
    "----------\n",
    "\n",
    "The solution should be submitted **jointly with part 2** - the deadlines for the submission are Monday 5th June (for the Wednesday groups) and Saturday, 24th June (for the Friday group).\n",
    "\n",
    "Introduction\n",
    "---------------\n",
    "\n",
    "Your task is to implement the [Schelling's model of segregation](https://en.wikipedia.org/wiki/Schelling%27s_model_of_segregation). This part focuses on the implementation of the model itself, the second part will be focused around analyzing the model's output (**the second part of the task will be published after a week**).\n",
    "\n",
    "The model describes a behavior of two groups (later indicated by numbers 1 and 2 in the array - number 0 will be a vacant space) of people that can move on a square lattice - they only want to move when their satisfaction with the neighbors is below a given threshold. The satisfaction is computed as number of neighbors that belong to the same group as the agent (a cell's neighborhood consists of all 8 cells that share an edge or a corner with it) divided by the total number of neighbors (in other words, a vacant cell in the neighborhood does not influence the decision of the agent).\n",
    "\n",
    "In the model, all agents determine if they want to move somewhere else at the same time. However, their moving is sequential (they move one by one, in a random order, and their new place is chosen randomly from the vacant cells).\n",
    "\n",
    "**in this task, do not import additional modules, packages or functions**"
   ]
  },
  {
   "cell_type": "code",
   "execution_count": 1,
   "id": "598a33b7-02da-44ab-a848-d41b808793a9",
   "metadata": {},
   "outputs": [],
   "source": [
    "import numpy as np\n",
    "import matplotlib.pyplot as plt\n",
    "import matplotlib.animation as animation\n",
    "from time import time, sleep"
   ]
  },
  {
   "cell_type": "markdown",
   "id": "82b9c66c-3906-4fd2-9cbe-581f2ced8876",
   "metadata": {},
   "source": [
    "As a first step, we will define the parameters of the model."
   ]
  },
  {
   "cell_type": "code",
   "execution_count": 2,
   "id": "9abd9a46-c62f-4f25-867c-4f1c153a3c1d",
   "metadata": {},
   "outputs": [],
   "source": [
    "# parameters\n",
    "N = 100\n",
    "t = .5\n",
    "E = .03"
   ]
  },
  {
   "cell_type": "markdown",
   "id": "ec97145c-7391-42cf-ad35-e65b2f66446b",
   "metadata": {},
   "source": [
    "*Task 1* implement of the function `initialize(N, E)` - `N` is the size of the lattice (the lattice is `NxN`), and `E` is the fraction of vacant spaces.\n",
    "\n",
    "After the values are initialized, add a rows/columns of zeros around the matrix, so that the final matrix is of size `(N+2)x(N+2)` and the first row, the last row, the first column and the last column are zero (with the middle `NxN` lattice being the \"world\" that the agents inhibit).\n",
    "\n",
    "Make sure that the number of agents in each group is equal and the agents are placed randomly.\n",
    "\n",
    "**The function `mid` will be helpful in the later steps (it extracts the \"world\")**"
   ]
  },
  {
   "cell_type": "code",
   "execution_count": 3,
   "id": "f16267c4-21da-4de6-984f-be3b4a26ff2a",
   "metadata": {},
   "outputs": [],
   "source": [
    "def initialize(N, E):\n",
    "    # Calculate the number of agents in each group\n",
    "    num_agents = int((N * N) * (1 - E) / 2)\n",
    "\n",
    "    # Randomly assign agents to the first group (1) and second group (2)\n",
    "    e = N * N - 2 * num_agents\n",
    "    ones_list = [1] * num_agents\n",
    "    two_list = [2] * num_agents\n",
    "    zeros_list = [0] * e\n",
    "    agents_ = ones_list + two_list + zeros_list\n",
    "    np.random.shuffle(agents_)\n",
    "    agents = np.array(agents_).reshape(N, N)\n",
    "    zeros_matrix = np.zeros((N+2, N+2))\n",
    "    zeros_matrix[1:-1, 1:-1] = agents\n",
    "\n",
    "    return zeros_matrix\n",
    "\n",
    "\n",
    "def mid(a):\n",
    "    return a[1:-1, 1:-1]"
   ]
  },
  {
   "cell_type": "markdown",
   "id": "76067418-aeee-425a-8822-c620697c4311",
   "metadata": {},
   "source": [
    "**Use the cell below to check the correctness of your implementation**\n",
    "\n",
    "Note, that this only checks the number of agents, not their random placement.\n",
    "\n",
    "> `assert` will raise an Exception when the condition is not met, otherwise (if the tested condition is met) the cell will execute without an error.\n",
    "\n",
    "> **!!!** do not change the contents of the cells that have `assert` clause - they are written to help you check that your implementation is correct and runs quick enough for the later tasks"
   ]
  },
  {
   "cell_type": "code",
   "execution_count": 4,
   "id": "32b679f2-b708-4f83-956b-91fb8752763f",
   "metadata": {
    "tags": []
   },
   "outputs": [
    {
     "name": "stdout",
     "output_type": "stream",
     "text": [
      "Done in 0.11227989196777344 seconds\n"
     ]
    }
   ],
   "source": [
    "assert(mid(initialize(10, .4)).sum() == 90)\n",
    "assert(mid(initialize(9, .4)).sum() == 72)\n",
    "# aside from the correctness, we will measure the performance of the code, the following code should execute in less than 5 seconds (on any computer)\n",
    "ts = time()\n",
    "for n in range(5, 100):\n",
    "    for e in [.01, .05, .1, .2]:\n",
    "        _ = initialize(n, e)\n",
    "time_taken = time() - ts\n",
    "print(f'Done in {time_taken} seconds')\n",
    "assert(time_taken < 5)"
   ]
  },
  {
   "cell_type": "markdown",
   "id": "5a1fc8f7-3fc9-4ef9-83a4-ea2427f0ee38",
   "metadata": {
    "tags": []
   },
   "source": [
    "*Task 2* implement the `return_unhappy` function that returns a list of tuples with positions (row, column) of the agents that are unhappy with their current neighborhood.\n",
    "\n",
    "In this and later tasks, assume that the whole state (i.e., an array with world padded with zeros) is stored in variable called `state`. Remember, that a vacant cell has no agent - therefore it can't be unhappy."
   ]
  },
  {
   "cell_type": "code",
   "execution_count": 5,
   "id": "4fedec7d-88b7-456d-84ab-269ae378df06",
   "metadata": {},
   "outputs": [],
   "source": [
    "def return_unhappy(t, N):\n",
    "    \n",
    "    unhappy_agents = []\n",
    "    \n",
    "    # Iterate over each agent\n",
    "    for i in range(1, N + 1):\n",
    "        for j in range(1, N + 1):\n",
    "            agent = state[i, j]\n",
    "            \n",
    "            g = agent\n",
    "            \n",
    "            if g == 1 or g == 2:\n",
    "            \n",
    "                b = state[i-1:i+2, j-1:j+2]\n",
    "                b = b.copy()\n",
    "                b[1,1] = 0\n",
    "                sum_ = np.sum(b==g)\n",
    "\n",
    "                all_neighbors = np.sum(b!=0)\n",
    "                \n",
    "                if all_neighbors != 0:\n",
    "                    same_group_neighbors = sum_ / all_neighbors\n",
    "                    if same_group_neighbors < t:\n",
    "                        unhappy_agents.append((i, j))\n",
    "    \n",
    "    return unhappy_agents"
   ]
  },
  {
   "cell_type": "markdown",
   "id": "d1c2e4a3-903d-43ae-98cd-ca2cbad60352",
   "metadata": {},
   "source": [
    "Check your implementation below - it needs to be both correct and performant."
   ]
  },
  {
   "cell_type": "code",
   "execution_count": 6,
   "id": "165041e3-520c-40c7-9ec5-5ef46bcf7afc",
   "metadata": {},
   "outputs": [
    {
     "name": "stdout",
     "output_type": "stream",
     "text": [
      "[[0 0 0 0 0]\n",
      " [0 2 1 2 0]\n",
      " [0 1 1 0 0]\n",
      " [0 2 1 0 0]\n",
      " [0 0 0 0 0]]\n",
      "{(1, 2), (3, 1), (1, 1), (2, 2), (1, 3)}\n",
      "Done in 0.17955636978149414 seconds\n"
     ]
    }
   ],
   "source": [
    "state = np.array([[0, 0, 0, 0, 0], [0, 2, 1, 2, 0], [0, 1, 1, 0, 0], [0, 2, 1, 0, 0], [0, 0, 0, 0, 0]])\n",
    "print(state)\n",
    "a = set(return_unhappy(0.55, 3))\n",
    "print(a)\n",
    "assert(set(return_unhappy(0.55, 3)) == set([(1, 1), (1, 3), (1, 2), (2, 2), (3, 1)]))\n",
    "ts = time()\n",
    "state = np.array([[0, 0, 0, 0, 0, 0, 0], [0, 2, 2, 1, 2, 1, 0], [0, 2, 1, 1, 0, 1, 0], [0, 1, 2, 2, 1, 0, 0], [0, 0, 1, 2, 1, 0, 0], [0, 2, 1, 0, 2, 0, 0], [0, 0, 0, 0, 0, 0, 0]])\n",
    "for _ in range(100):\n",
    "    for tt in [.2, .3, .4, .5, .6, .7, .8]:\n",
    "        _ = return_unhappy(tt, 5)\n",
    "time_taken = time() - ts\n",
    "print(f'Done in {time_taken} seconds')\n",
    "assert(time_taken < 10)"
   ]
  },
  {
   "cell_type": "markdown",
   "id": "14f64ea6-1665-45a5-a164-33e854cc2d40",
   "metadata": {},
   "source": [
    "*Task 3* implement the `get_vacant` function that returns a list of tuples with positions (row, column) of the vacant cells in the \"world\" (do not count the zeros on the border of the `state` array - no agent can move there!)."
   ]
  },
  {
   "cell_type": "code",
   "execution_count": 7,
   "id": "2f6802e6-b1f2-4fab-8f13-69813226eb56",
   "metadata": {},
   "outputs": [],
   "source": [
    "def get_vacant(N):\n",
    "    vacant = []\n",
    "    # Iterate over each cell in the inner part of the state array\n",
    "    for i in range(1, N+1):\n",
    "        for j in range(1, N+1):\n",
    "            if state[i, j] == 0:\n",
    "                vacant.append((i, j))\n",
    "    return vacant"
   ]
  },
  {
   "cell_type": "markdown",
   "id": "39f38a6a-322b-4a6c-a5d2-0a2035ca3a9c",
   "metadata": {},
   "source": [
    "Check your implementation below."
   ]
  },
  {
   "cell_type": "code",
   "execution_count": 8,
   "id": "c3d394af-27cd-4f42-a4fc-9789d37fc9f6",
   "metadata": {},
   "outputs": [
    {
     "name": "stdout",
     "output_type": "stream",
     "text": [
      "[(2, 4), (3, 5), (4, 1), (4, 5), (5, 3), (5, 5)]\n",
      "Done in 0.05633187294006348 seconds\n"
     ]
    }
   ],
   "source": [
    "state = np.array([[0, 0, 0, 0, 0, 0, 0], [0, 2, 2, 1, 2, 1, 0], [0, 2, 1, 1, 0, 1, 0], [0, 1, 2, 2, 1, 0, 0], [0, 0, 1, 2, 1, 0, 0], [0, 2, 1, 0, 2, 0, 0], [0, 0, 0, 0, 0, 0, 0]])\n",
    "print(get_vacant(5))\n",
    "assert(set(get_vacant(5)) == set([(2, 4), (3, 5), (4, 1), (4, 5), (5, 3), (5, 5)]))\n",
    "ts = time()\n",
    "for _ in range(10000):\n",
    "    _ = get_vacant(5)\n",
    "time_taken = time() - ts\n",
    "print(f'Done in {time_taken} seconds')\n",
    "assert(time_taken < 2)"
   ]
  },
  {
   "cell_type": "markdown",
   "id": "c9685866-c062-44c2-9a52-0798823bcbd0",
   "metadata": {},
   "source": [
    "*Task 4* implement the `move` function that modifies the array - given a  list of tuples with positions (row, column) of the unhappy neighbors. For each unhappy agent, move it to a vanact position (**note: the agents need to be moved in a random order, otherwise the implementation is incorrect**)"
   ]
  },
  {
   "cell_type": "code",
   "execution_count": 9,
   "id": "1639b9ef-0c6a-4338-a822-6e05186778a7",
   "metadata": {},
   "outputs": [],
   "source": [
    "def move(unhappy, N):\n",
    "    # the function should modify the state array and return nothing\n",
    "    # Iterate over the unhappy agents in random order\n",
    "    np.random.shuffle(unhappy)\n",
    "    \n",
    "    for agent_pos in unhappy:\n",
    "        agent_row, agent_col = agent_pos\n",
    "        \n",
    "        # Get the vacant positions\n",
    "        vacant = get_vacant(N)\n",
    "        \n",
    "        # Randomly select a vacant position\n",
    "        new_pos = np.random.choice(len(vacant))\n",
    "        new_row, new_col = vacant[new_pos]\n",
    "        \n",
    "        # Move the agent to the vacant position\n",
    "        state[new_row, new_col] = state[agent_row, agent_col]\n",
    "        state[agent_row, agent_col] = 0"
   ]
  },
  {
   "cell_type": "code",
   "execution_count": 10,
   "id": "b12be2cf-94b4-4bca-a79c-56efe5187286",
   "metadata": {},
   "outputs": [
    {
     "name": "stdout",
     "output_type": "stream",
     "text": [
      "Done in 0.11122322082519531 seconds\n"
     ]
    }
   ],
   "source": [
    "ts = time()\n",
    "for _ in range(200):\n",
    "    state = np.array([[0, 0, 0, 0, 0, 0, 0], [0, 2, 2, 1, 2, 1, 0], [0, 2, 1, 1, 0, 1, 0], [0, 1, 2, 2, 1, 0, 0], [0, 0, 1, 2, 1, 0, 0], [0, 2, 1, 0, 2, 0, 0], [0, 0, 0, 0, 0, 0, 0]])\n",
    "    unh = return_unhappy(0.55, 5)\n",
    "    move(unh, 5)\n",
    "time_taken = time() - ts\n",
    "print(f'Done in {time_taken} seconds')\n",
    "assert(time_taken < 3)"
   ]
  },
  {
   "cell_type": "markdown",
   "id": "018828c7-ac3a-4fdc-87e6-779142ed7c95",
   "metadata": {},
   "source": [
    "**Use the cells below to run the simulation and see if the output looks correct**"
   ]
  },
  {
   "cell_type": "code",
   "execution_count": 11,
   "id": "c9b11b4f-cc01-4033-a2c8-e72033fe68be",
   "metadata": {},
   "outputs": [],
   "source": [
    "# SIMULATE\n",
    "state = initialize(N, E)\n",
    "done = False\n",
    "frames = min(N**2, 100)  # Define the maximum number of iterations, limited by the size of the lattice\n",
    "\n",
    "def update(frame):\n",
    "    global done\n",
    "    if done:\n",
    "        return\n",
    "    unh = return_unhappy(t, N)\n",
    "    if not unh:\n",
    "        done = True\n",
    "        print('Finished')\n",
    "        return\n",
    "    print(f'start of iteration {frame}, #unhappy: {len(unh)}')\n",
    "    move(unh, N)\n",
    "    if frame >= frames:\n",
    "        print('Not finished')\n",
    "    im.set_data(mid(state))\n",
    "    plt.title(f'Iteration: {frame}, Unhappy: {len(unh)}')"
   ]
  },
  {
   "cell_type": "code",
   "execution_count": 15,
   "id": "e1dd6608-002b-4398-8338-df29d0cb1e94",
   "metadata": {},
   "outputs": [
    {
     "name": "stdout",
     "output_type": "stream",
     "text": [
      "start of iteration 0, #unhappy: 3796\n",
      "start of iteration 0, #unhappy: 2077\n",
      "start of iteration 1, #unhappy: 1287\n",
      "start of iteration 2, #unhappy: 853\n",
      "start of iteration 3, #unhappy: 597\n",
      "start of iteration 4, #unhappy: 429\n",
      "start of iteration 5, #unhappy: 332\n",
      "start of iteration 6, #unhappy: 267\n",
      "start of iteration 7, #unhappy: 197\n",
      "start of iteration 8, #unhappy: 155\n",
      "start of iteration 9, #unhappy: 121\n",
      "start of iteration 10, #unhappy: 85\n",
      "start of iteration 11, #unhappy: 66\n",
      "start of iteration 12, #unhappy: 63\n",
      "start of iteration 13, #unhappy: 50\n",
      "start of iteration 14, #unhappy: 47\n",
      "start of iteration 15, #unhappy: 29\n",
      "start of iteration 16, #unhappy: 16\n",
      "start of iteration 17, #unhappy: 16\n",
      "start of iteration 18, #unhappy: 14\n",
      "start of iteration 19, #unhappy: 8\n",
      "start of iteration 20, #unhappy: 6\n",
      "start of iteration 21, #unhappy: 6\n",
      "start of iteration 22, #unhappy: 3\n",
      "start of iteration 23, #unhappy: 3\n",
      "start of iteration 24, #unhappy: 4\n",
      "start of iteration 25, #unhappy: 5\n",
      "start of iteration 26, #unhappy: 4\n",
      "start of iteration 27, #unhappy: 2\n",
      "start of iteration 28, #unhappy: 2\n",
      "start of iteration 29, #unhappy: 1\n",
      "start of iteration 30, #unhappy: 1\n",
      "start of iteration 31, #unhappy: 1\n",
      "start of iteration 32, #unhappy: 1\n",
      "Finished\n",
      "Wall time: 26.2 s\n"
     ]
    },
    {
     "data": {
      "image/png": "[encoded data removed]",
      "text/plain": [
       "<Figure size 640x480 with 1 Axes>"
      ]
     },
     "metadata": {},
     "output_type": "display_data"
    }
   ],
   "source": [
    "%%time\n",
    "fig = plt.figure()\n",
    "im = plt.imshow(state)\n",
    "ani = animation.FuncAnimation(fig=fig, func=update, frames=frames, interval=50, repeat=False)\n",
    "result = 'save'\n",
    "if result == 'show':\n",
    "    plt.show()\n",
    "else:\n",
    "    # optionally, save, for example as html\n",
    "    ani.save(filename='schelling.html', writer='html')"
   ]
  },
  {
   "cell_type": "code",
   "execution_count": null,
   "id": "81261d76",
   "metadata": {},
   "outputs": [],
   "source": []
  }
 ],
 "metadata": {
  "kernelspec": {
   "display_name": "Python 3 (ipykernel)",
   "language": "python",
   "name": "python3"
  },
  "language_info": {
   "codemirror_mode": {
    "name": "ipython",
    "version": 3
   },
   "file_extension": ".py",
   "mimetype": "text/x-python",
   "name": "python",
   "nbconvert_exporter": "python",
   "pygments_lexer": "ipython3",
   "version": "3.9.13"
  }
 },
 "nbformat": 4,
 "nbformat_minor": 5
}
